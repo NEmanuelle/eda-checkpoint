{
 "cells": [
  {
   "cell_type": "markdown",
   "metadata": {
    "azdata_cell_guid": "151601c9-ca7a-412e-af80-c62a87e0837e"
   },
   "source": [
    "# Checkpoint Two: Exploratory Data Analysis\n",
    "\n",
    "Now that your chosen dataset is approved, it is time to start working on your analysis. Use this notebook to perform your EDA and make notes where directed to as you work.\n",
    "\n",
    "## Getting Started\n",
    "\n",
    "Since we have not provided your dataset for you, you will need to load the necessary files in this repository. Make sure to include a link back to the original dataset here as well.\n",
    "\n",
    "My dataset:\n",
    "\n",
    "Your first task in EDA is to import necessary libraries and create a dataframe(s). Make note in the form of code comments of what your thought process is as you work on this setup task."
   ]
  },
  {
   "cell_type": "code",
   "execution_count": 90,
   "metadata": {
    "azdata_cell_guid": "7b503e37-6df5-4433-acfb-678b1346db14"
   },
   "outputs": [],
   "source": [
    "import pandas as pd\n",
    "import seaborn as sns\n",
    "import matplotlib.pyplot as plt\n",
    "import numpy as np\n",
    "#Data for National and State for three years from the Bureau of Labor Statistics.\n",
    "N2021_df = pd.read_excel('/Users/nicolette/Desktop/LaunchCode/Project Arts/oesm21nat/national_M2021_dl.xlsx', index_col=0)\n",
    "S2021_df = pd.read_excel('/Users/nicolette/Desktop/LaunchCode/Project Arts/oesm21st/state_M2021_dl.xlsx', index_col=0)\n",
    "N2020_df = pd.read_excel('/Users/nicolette/Desktop/LaunchCode/Project Arts/oesm20nat/national_M2020_dl.xlsx', index_col=0)\n",
    "S2020_df = pd.read_excel('/Users/nicolette/Desktop/LaunchCode/Project Arts/oesm20st/state_M2020_dl.xlsx', index_col=0)\n",
    "N2019_df = pd.read_excel('/Users/nicolette/Desktop/LaunchCode/Project Arts/oesm19nat/national_M2019_dl.xlsx', index_col=0)\n",
    "S2019_df = pd.read_excel('/Users/nicolette/Desktop/LaunchCode/Project Arts/oesm19st/state_M2019_dl.xlsx', index_col=0)"
   ]
  },
  {
   "cell_type": "markdown",
   "metadata": {
    "azdata_cell_guid": "129ce836-524b-4ea8-b394-a959f9308d6a"
   },
   "source": [
    "## Get to Know the Numbers\n",
    "\n",
    "Now that you have everything setup, put any code that you use to get to know the dataframe and its rows and columns better in the cell below. You can use whatever techniques you like, except for visualizations. You will put those in a separate section.\n",
    "\n",
    "When working on your code, make sure to leave comments so that your mentors can understand your thought process."
   ]
  },
  {
   "cell_type": "code",
   "execution_count": 91,
   "metadata": {
    "azdata_cell_guid": "0ca2d318-f6e8-43ef-a33e-5304d24d928d",
    "tags": []
   },
   "outputs": [
    {
     "data": {
      "text/html": [
       "<div>\n",
       "<style scoped>\n",
       "    .dataframe tbody tr th:only-of-type {\n",
       "        vertical-align: middle;\n",
       "    }\n",
       "\n",
       "    .dataframe tbody tr th {\n",
       "        vertical-align: top;\n",
       "    }\n",
       "\n",
       "    .dataframe thead th {\n",
       "        text-align: right;\n",
       "    }\n",
       "</style>\n",
       "<table border=\"1\" class=\"dataframe\">\n",
       "  <thead>\n",
       "    <tr style=\"text-align: right;\">\n",
       "      <th></th>\n",
       "      <th>AREA_TITLE</th>\n",
       "      <th>AREA_TYPE</th>\n",
       "      <th>PRIM_STATE</th>\n",
       "      <th>NAICS</th>\n",
       "      <th>NAICS_TITLE</th>\n",
       "      <th>I_GROUP</th>\n",
       "      <th>OWN_CODE</th>\n",
       "      <th>OCC_CODE</th>\n",
       "      <th>OCC_TITLE</th>\n",
       "      <th>O_GROUP</th>\n",
       "      <th>...</th>\n",
       "      <th>H_MEDIAN</th>\n",
       "      <th>H_PCT75</th>\n",
       "      <th>H_PCT90</th>\n",
       "      <th>A_PCT10</th>\n",
       "      <th>A_PCT25</th>\n",
       "      <th>A_MEDIAN</th>\n",
       "      <th>A_PCT75</th>\n",
       "      <th>A_PCT90</th>\n",
       "      <th>ANNUAL</th>\n",
       "      <th>HOURLY</th>\n",
       "    </tr>\n",
       "    <tr>\n",
       "      <th>AREA</th>\n",
       "      <th></th>\n",
       "      <th></th>\n",
       "      <th></th>\n",
       "      <th></th>\n",
       "      <th></th>\n",
       "      <th></th>\n",
       "      <th></th>\n",
       "      <th></th>\n",
       "      <th></th>\n",
       "      <th></th>\n",
       "      <th></th>\n",
       "      <th></th>\n",
       "      <th></th>\n",
       "      <th></th>\n",
       "      <th></th>\n",
       "      <th></th>\n",
       "      <th></th>\n",
       "      <th></th>\n",
       "      <th></th>\n",
       "      <th></th>\n",
       "      <th></th>\n",
       "    </tr>\n",
       "  </thead>\n",
       "  <tbody>\n",
       "    <tr>\n",
       "      <th>99</th>\n",
       "      <td>U.S.</td>\n",
       "      <td>1</td>\n",
       "      <td>US</td>\n",
       "      <td>0</td>\n",
       "      <td>Cross-industry</td>\n",
       "      <td>cross-industry</td>\n",
       "      <td>1235</td>\n",
       "      <td>00-0000</td>\n",
       "      <td>All Occupations</td>\n",
       "      <td>total</td>\n",
       "      <td>...</td>\n",
       "      <td>22</td>\n",
       "      <td>32.98</td>\n",
       "      <td>49.43</td>\n",
       "      <td>23980</td>\n",
       "      <td>29950</td>\n",
       "      <td>45760</td>\n",
       "      <td>68590</td>\n",
       "      <td>102810</td>\n",
       "      <td>NaN</td>\n",
       "      <td>NaN</td>\n",
       "    </tr>\n",
       "  </tbody>\n",
       "</table>\n",
       "<p>1 rows × 31 columns</p>\n",
       "</div>"
      ],
      "text/plain": [
       "     AREA_TITLE  AREA_TYPE PRIM_STATE  NAICS     NAICS_TITLE         I_GROUP  \\\n",
       "AREA                                                                           \n",
       "99         U.S.          1         US      0  Cross-industry  cross-industry   \n",
       "\n",
       "      OWN_CODE OCC_CODE        OCC_TITLE O_GROUP  ...  H_MEDIAN  H_PCT75  \\\n",
       "AREA                                              ...                      \n",
       "99        1235  00-0000  All Occupations   total  ...        22    32.98   \n",
       "\n",
       "      H_PCT90  A_PCT10  A_PCT25  A_MEDIAN A_PCT75 A_PCT90 ANNUAL HOURLY  \n",
       "AREA                                                                     \n",
       "99      49.43    23980    29950     45760   68590  102810    NaN    NaN  \n",
       "\n",
       "[1 rows x 31 columns]"
      ]
     },
     "execution_count": 91,
     "metadata": {},
     "output_type": "execute_result"
    }
   ],
   "source": [
    "N2021_df.head(1)"
   ]
  },
  {
   "cell_type": "code",
   "execution_count": 92,
   "metadata": {},
   "outputs": [
    {
     "data": {
      "text/html": [
       "<div>\n",
       "<style scoped>\n",
       "    .dataframe tbody tr th:only-of-type {\n",
       "        vertical-align: middle;\n",
       "    }\n",
       "\n",
       "    .dataframe tbody tr th {\n",
       "        vertical-align: top;\n",
       "    }\n",
       "\n",
       "    .dataframe thead th {\n",
       "        text-align: right;\n",
       "    }\n",
       "</style>\n",
       "<table border=\"1\" class=\"dataframe\">\n",
       "  <thead>\n",
       "    <tr style=\"text-align: right;\">\n",
       "      <th></th>\n",
       "      <th>AREA_TITLE</th>\n",
       "      <th>AREA_TYPE</th>\n",
       "      <th>PRIM_STATE</th>\n",
       "      <th>NAICS</th>\n",
       "      <th>NAICS_TITLE</th>\n",
       "      <th>I_GROUP</th>\n",
       "      <th>OWN_CODE</th>\n",
       "      <th>OCC_CODE</th>\n",
       "      <th>OCC_TITLE</th>\n",
       "      <th>O_GROUP</th>\n",
       "      <th>...</th>\n",
       "      <th>H_MEDIAN</th>\n",
       "      <th>H_PCT75</th>\n",
       "      <th>H_PCT90</th>\n",
       "      <th>A_PCT10</th>\n",
       "      <th>A_PCT25</th>\n",
       "      <th>A_MEDIAN</th>\n",
       "      <th>A_PCT75</th>\n",
       "      <th>A_PCT90</th>\n",
       "      <th>ANNUAL</th>\n",
       "      <th>HOURLY</th>\n",
       "    </tr>\n",
       "    <tr>\n",
       "      <th>AREA</th>\n",
       "      <th></th>\n",
       "      <th></th>\n",
       "      <th></th>\n",
       "      <th></th>\n",
       "      <th></th>\n",
       "      <th></th>\n",
       "      <th></th>\n",
       "      <th></th>\n",
       "      <th></th>\n",
       "      <th></th>\n",
       "      <th></th>\n",
       "      <th></th>\n",
       "      <th></th>\n",
       "      <th></th>\n",
       "      <th></th>\n",
       "      <th></th>\n",
       "      <th></th>\n",
       "      <th></th>\n",
       "      <th></th>\n",
       "      <th></th>\n",
       "      <th></th>\n",
       "    </tr>\n",
       "  </thead>\n",
       "  <tbody>\n",
       "    <tr>\n",
       "      <th>1</th>\n",
       "      <td>Alabama</td>\n",
       "      <td>2</td>\n",
       "      <td>AL</td>\n",
       "      <td>0</td>\n",
       "      <td>Cross-industry</td>\n",
       "      <td>cross-industry</td>\n",
       "      <td>1235</td>\n",
       "      <td>00-0000</td>\n",
       "      <td>All Occupations</td>\n",
       "      <td>total</td>\n",
       "      <td>...</td>\n",
       "      <td>17.91</td>\n",
       "      <td>28.68</td>\n",
       "      <td>39.79</td>\n",
       "      <td>18630</td>\n",
       "      <td>24720</td>\n",
       "      <td>37250</td>\n",
       "      <td>59660</td>\n",
       "      <td>82760</td>\n",
       "      <td>NaN</td>\n",
       "      <td>NaN</td>\n",
       "    </tr>\n",
       "  </tbody>\n",
       "</table>\n",
       "<p>1 rows × 31 columns</p>\n",
       "</div>"
      ],
      "text/plain": [
       "     AREA_TITLE  AREA_TYPE PRIM_STATE  NAICS     NAICS_TITLE         I_GROUP  \\\n",
       "AREA                                                                           \n",
       "1       Alabama          2         AL      0  Cross-industry  cross-industry   \n",
       "\n",
       "      OWN_CODE OCC_CODE        OCC_TITLE O_GROUP  ... H_MEDIAN H_PCT75  \\\n",
       "AREA                                              ...                    \n",
       "1         1235  00-0000  All Occupations   total  ...    17.91   28.68   \n",
       "\n",
       "     H_PCT90 A_PCT10  A_PCT25  A_MEDIAN A_PCT75 A_PCT90 ANNUAL HOURLY  \n",
       "AREA                                                                   \n",
       "1      39.79   18630    24720     37250   59660   82760    NaN    NaN  \n",
       "\n",
       "[1 rows x 31 columns]"
      ]
     },
     "execution_count": 92,
     "metadata": {},
     "output_type": "execute_result"
    }
   ],
   "source": [
    "S2021_df.head(1)"
   ]
  },
  {
   "cell_type": "code",
   "execution_count": 93,
   "metadata": {},
   "outputs": [
    {
     "name": "stdout",
     "output_type": "stream",
     "text": [
      "Shape: N2021 (1403, 31) S2021 (37580, 31) N2020 (1329, 30) S2020 (36085, 30) N2019 (1329, 29) S2019 (36382, 29)\n"
     ]
    }
   ],
   "source": [
    "print('Shape: N2021',N2021_df.shape,'S2021',S2021_df.shape,'N2020',N2020_df.shape,'S2020',S2020_df.shape,'N2019',N2019_df.shape,'S2019',S2019_df.shape)"
   ]
  },
  {
   "cell_type": "code",
   "execution_count": 150,
   "metadata": {},
   "outputs": [
    {
     "name": "stdout",
     "output_type": "stream",
     "text": [
      "OCC_CODE      object\n",
      "OCC_TITLE     object\n",
      "O_GROUP       object\n",
      "TOT_EMP        int64\n",
      "A_MEAN        object\n",
      "H_MEAN        object\n",
      "Year           int64\n",
      "AREA_TITLE    object\n",
      "dtype: object\n",
      "OCC_CODE      object\n",
      "OCC_TITLE     object\n",
      "O_GROUP       object\n",
      "TOT_EMP       object\n",
      "A_MEAN        object\n",
      "H_MEAN        object\n",
      "Year           int64\n",
      "AREA_TITLE    object\n",
      "dtype: object\n"
     ]
    }
   ],
   "source": [
    "# Will need to research why some numerical columns are objects \n",
    "print(N2021_df.dtypes)\n",
    "print(S2021_df.dtypes)"
   ]
  },
  {
   "cell_type": "code",
   "execution_count": 149,
   "metadata": {},
   "outputs": [],
   "source": [
    "# add a column to each set signifying the year \n",
    "N2021_df[\"Year\"] = int(2021)\n",
    "S2021_df[\"Year\"] = int(2021)\n",
    "N2020_df[\"Year\"] = int(2020)\n",
    "S2020_df[\"Year\"] = int(2020)\n",
    "N2019_df[\"Year\"] = int(2019)\n",
    "S2019_df[\"Year\"] = int(2019)"
   ]
  },
  {
   "cell_type": "code",
   "execution_count": 95,
   "metadata": {},
   "outputs": [],
   "source": [
    "#Change the names of the columns for 2019 dataset to match capitilzation of other sets.\n",
    "N2019_df.rename(columns={'occ_code': 'OCC_CODE', 'occ_title': 'OCC_TITLE','o_group' : 'O_GROUP','tot_emp' : 'TOT_EMP','a_mean':'A_MEAN','h_mean':'H_MEAN','area_title':'AREA_TITLE'}, inplace=True)\n",
    "S2019_df.rename(columns={'occ_code': 'OCC_CODE', 'occ_title': 'OCC_TITLE','o_group' : 'O_GROUP','tot_emp' : 'TOT_EMP','a_mean':'A_MEAN','h_mean':'H_MEAN','area_title':'AREA_TITLE'}, inplace=True)"
   ]
  },
  {
   "cell_type": "code",
   "execution_count": 96,
   "metadata": {},
   "outputs": [],
   "source": [
    "#Grab only the columns needed for each table\n",
    "N2021_df = N2021_df[['OCC_CODE','OCC_TITLE','O_GROUP','TOT_EMP','A_MEAN', 'H_MEAN', 'Year', 'AREA_TITLE']]\n",
    "S2021_df = S2021_df[['OCC_CODE','OCC_TITLE','O_GROUP','TOT_EMP','A_MEAN', 'H_MEAN', 'Year', 'AREA_TITLE']]\n",
    "N2020_df = N2020_df[['OCC_CODE','OCC_TITLE','O_GROUP','TOT_EMP','A_MEAN', 'H_MEAN', 'Year', 'AREA_TITLE']]\n",
    "S2020_df = S2020_df[['OCC_CODE','OCC_TITLE','O_GROUP','TOT_EMP','A_MEAN', 'H_MEAN', 'Year', 'AREA_TITLE']]\n",
    "N2019_df = N2019_df[['OCC_CODE','OCC_TITLE','O_GROUP','TOT_EMP','A_MEAN', 'H_MEAN', 'Year', 'AREA_TITLE']]\n",
    "S2019_df = S2019_df[['OCC_CODE','OCC_TITLE','O_GROUP','TOT_EMP','A_MEAN', 'H_MEAN', 'Year', 'AREA_TITLE']]\n"
   ]
  },
  {
   "cell_type": "code",
   "execution_count": 97,
   "metadata": {},
   "outputs": [],
   "source": [
    "#Combine into 2 data sets, national data and state data.\n",
    "national_df = pd.concat([N2021_df, N2020_df,N2019_df])\n",
    "state_df = pd.concat ([S2021_df, S2020_df,S2019_df])"
   ]
  },
  {
   "cell_type": "code",
   "execution_count": 130,
   "metadata": {},
   "outputs": [],
   "source": [
    "#Keep only rows to do with Art as an occupation according to the occupational code.\n",
    "national_df = national_df.query(\"OCC_CODE in ('27-0000','27-1000','27-1010','27-1011','27-1012','27-1013','27-1014','27-1019','27-1020','27-1021','27-1022','27-1023','27-1024','27-1025','27-1026','27-1027','27-1029','27-2000','27-2010','27-2011','27-2012','27-2020','27-2022','27-2023','27-2030','27-2031','27-2032','27-2040','27-2041','27-2042','27-2090','27-2091','27-2099','27-3000','27-3010','27-3011','27-3020','27-3023','27-3030','27-3031','27-3040','27-3041','27-3042','27-3043','27-3090','27-3091','27-3092','27-3099','27-4000','27-4010','27-4011','27-4012','27-4014','27-4015','27-4020','27-4021','27-4030','27-4031','27-4032','27-4090','27-4099')\")\n",
    "state_df = state_df.query(\"OCC_CODE in ('27-0000','27-1000','27-1010','27-1011','27-1012','27-1013','27-1014','27-1019','27-1020','27-1021','27-1022','27-1023','27-1024','27-1025','27-1026','27-1027','27-1029','27-2000','27-2010','27-2011','27-2012','27-2020','27-2022','27-2023','27-2030','27-2031','27-2032','27-2040','27-2041','27-2042','27-2090','27-2091','27-2099','27-3000','27-3010','27-3011','27-3020','27-3023','27-3030','27-3031','27-3040','27-3041','27-3042','27-3043','27-3090','27-3091','27-3092','27-3099','27-4000','27-4010','27-4011','27-4012','27-4014','27-4015','27-4020','27-4021','27-4030','27-4031','27-4032','27-4090','27-4099')\")"
   ]
  },
  {
   "cell_type": "code",
   "execution_count": 131,
   "metadata": {},
   "outputs": [],
   "source": [
    "#Filter out all other 'areas' except the state of Missouri\n",
    "missouri_df= state_df.query(\"AREA_TITLE == 'Missouri'\")"
   ]
  },
  {
   "cell_type": "markdown",
   "metadata": {
    "azdata_cell_guid": "d45060f3-97bc-484a-9ef4-66145bbe9427"
   },
   "source": [
    "## Questions: columns needed to answer questions:\n",
    " Is there a significant decrease in artists from 2019 to 2021? **OOC_TITLE/OOC_CODE and TOT_EMP** \n",
    " \n",
    " Are there certain artist groups (performing, visual, musician, etc) that were hit harder than others? **add A_MEAN and H_MEAN**\n",
    " \n",
    "For those who stayed in the arts, is there a significant difference in earnings? **Trends over time**\n",
    "\n",
    "How does Missouri compare to National averages? **Same columns for national avg vs state avg**"
   ]
  },
  {
   "cell_type": "markdown",
   "metadata": {
    "azdata_cell_guid": "d45060f3-97bc-484a-9ef4-66145bbe9427"
   },
   "source": [
    "## Visualize\n",
    "\n",
    "Create any visualizations for your EDA here. Make note in the form of code comments of what your thought process is for your visualizations."
   ]
  },
  {
   "cell_type": "code",
   "execution_count": 142,
   "metadata": {},
   "outputs": [
    {
     "data": {
      "image/png": "[encoded data removed]",
      "text/plain": [
       "<Figure size 432x288 with 1 Axes>"
      ]
     },
     "metadata": {
      "needs_background": "light"
     },
     "output_type": "display_data"
    },
    {
     "data": {
      "image/png": "[encoded data removed]",
      "text/plain": [
       "<Figure size 432x288 with 1 Axes>"
      ]
     },
     "metadata": {
      "needs_background": "light"
     },
     "output_type": "display_data"
    }
   ],
   "source": [
    "#At a glance view of employment rate of artists in Missouri and nationally \n",
    "occ_missouri_df = missouri_df.query(\"OCC_CODE in ('27-0000')\")\n",
    "occ_national_df = national_df.query(\"OCC_CODE in ('27-0000')\")\n",
    "\n",
    "plt.plot(occ_missouri_df['Year'], occ_missouri_df['TOT_EMP'])\n",
    "plt.title('Missouri artist employment rate over 3 years', fontsize=14)\n",
    "plt.xlabel('Year', fontsize=14)\n",
    "plt.ylabel('total employees', fontsize=14)\n",
    "plt.show()\n",
    "\n",
    "plt.plot(occ_national_df['Year'], occ_national_df['TOT_EMP'])\n",
    "plt.title('National artist employment rate over 3 years', fontsize=14)\n",
    "plt.xlabel('Year', fontsize=14)\n",
    "plt.ylabel('total employees', fontsize=14)\n",
    "plt.show()"
   ]
  },
  {
   "cell_type": "markdown",
   "metadata": {
    "azdata_cell_guid": "d4931c0c-2c09-4ee1-95d4-73dd08c2f0a6"
   },
   "source": [
    "## Summarize Your Results\n",
    "\n",
    "With your EDA complete, answer the following questions.\n",
    "\n",
    "1. Was there anything surprising about your dataset? \n",
    "**Inconsistencies with capitalizations and naming. I was pleasantly surprised that they inlcuded a column to help break down the heirarcal structure of the OCC columns (O_GROUP).**\n",
    "2. Do you have any concerns about your dataset? \n",
    "**This dataset does not include self employeed artists which make up a large portion of artists- I'm afraid this will skew the data.** \n",
    "3. Is there anything you want to make note of for the next phase of your analysis, which is cleaning data? \n",
    "**There are ** and * for some of the values in the TOT_EMP, A_MEAN and H_MEAN columns that will need to be dealt with in order to convert those values to integers or floats for the purpose of aggrigations and graphs.** "
   ]
  },
  {
   "cell_type": "code",
   "execution_count": 157,
   "metadata": {},
   "outputs": [
    {
     "name": "stdout",
     "output_type": "stream",
     "text": [
      "total 264\n",
      "-rw-r--r--  1 nicolette  staff    64K Jan 31 13:01 checkpoint-two-Copy1.ipynb\n",
      "-rw-rw-r--@ 1 nicolette  staff    67K Jan 31 13:58 checkpoint-two.ipynb\n"
     ]
    }
   ],
   "source": [
    "#1st file crashed due to file size, this is to check file size before saving.\n",
    "!ls -lh"
   ]
  },
  {
   "cell_type": "code",
   "execution_count": null,
   "metadata": {},
   "outputs": [],
   "source": []
  }
 ],
 "metadata": {
  "kernelspec": {
   "display_name": "Python 3 (ipykernel)",
   "language": "python",
   "name": "python3"
  },
  "language_info": {
   "codemirror_mode": {
    "name": "ipython",
    "version": 3
   },
   "file_extension": ".py",
   "mimetype": "text/x-python",
   "name": "python",
   "nbconvert_exporter": "python",
   "pygments_lexer": "ipython3",
   "version": "3.9.12"
  }
 },
 "nbformat": 4,
 "nbformat_minor": 4
}
